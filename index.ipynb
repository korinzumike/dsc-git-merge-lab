{
 "cells": [
  {
   "cell_type": "markdown",
   "metadata": {},
   "source": []
  },
  {
   "cell_type": "markdown",
   "metadata": {},
   "source": [
    "# Git Merge - Lab\n",
    "\n",
    "## Introduction\n",
    "\n",
    "It's time to continue to practice your git and bash skills! In this lab, you'll work primarily from the command line in order to create a git repository, create a development branch and practice merging updates into a master copy. Along the way, you'll see how python scripts can be run from the command line and continue to get more familiar with git and bash in general!\n",
    "\n",
    "## Objectives\n",
    "\n",
    "You will be able to:\n",
    "    \n",
    "* Explain branches and their purpose in git\n",
    "* Create a new branch\n",
    "* Switch between branches\n",
    "* Use `git merge` to merge different branches\n",
    "\n",
    "## Create a Local Folder to House the Git Repository\n",
    "\n",
    "To start, create a folder from the command line. (Be sure to place this in a logical, organized location!)"
   ]
  },
  {
   "cell_type": "markdown",
   "metadata": {},
   "source": [
    "## Initialize Git In Your New Folder\n",
    "\n",
    "Still working from the command line, navigate into your folder and initialize git!"
   ]
  },
  {
   "cell_type": "markdown",
   "metadata": {},
   "source": [
    "created a folder called \"merge-lab\" in my \"phase_1\" folder."
   ]
  },
  {
   "cell_type": "markdown",
   "metadata": {},
   "source": [
    "## Optional: Check What's Going On with git status"
   ]
  },
  {
   "cell_type": "markdown",
   "metadata": {},
   "source": [
    "Did that.  status was \"no commits yet\"."
   ]
  },
  {
   "cell_type": "markdown",
   "metadata": {},
   "source": [
    "## Create a New Python File\n",
    "\n",
    "From the command line type `nano numbers.py`."
   ]
  },
  {
   "cell_type": "markdown",
   "metadata": {},
   "source": [
    "okay."
   ]
  },
  {
   "cell_type": "markdown",
   "metadata": {},
   "source": [
    "Inside the file that opens write the following:\n",
    "\n",
    "(use 4 spaces for the indentation on the second line)\n",
    "```\n",
    "for i in range(10):\n",
    "    print(i**2)\n",
    "```\n",
    "\n",
    "Press Ctrl+X to exit and press Y to confirm that you wish to save your changes."
   ]
  },
  {
   "cell_type": "markdown",
   "metadata": {},
   "source": [
    "I done did that. 2020-08-19_0913"
   ]
  },
  {
   "cell_type": "markdown",
   "metadata": {},
   "source": [
    "## Test Your Python File\n",
    "\n",
    "Python files can be run from the command line with `python filename`.   \n",
    "So in this case, let's practice running our super simple script with `python numbers.py`.\n",
    "With luck, you should see the square numbers up through 81."
   ]
  },
  {
   "cell_type": "markdown",
   "metadata": {},
   "source": [
    "It works, by golly. 2020-08-19_0914"
   ]
  },
  {
   "cell_type": "markdown",
   "metadata": {},
   "source": [
    "## Add and Commit Your Changes\n",
    "\n",
    "Add and commit (with a comment) your new file."
   ]
  },
  {
   "cell_type": "markdown",
   "metadata": {},
   "source": [
    "I entered \"git add numbers.py\"\n",
    "\n",
    "Then I entered \"git status\" and it said \"no commits yet\"\n",
    "\n",
    "I entered \"git commit numbers.py\"\n",
    "with the comment \"This is the version that does squares of integers\"\n",
    "\n",
    "Then I entered \"git status\" and it said\n",
    "\"On branch master\n",
    "nothing to commit, working tree clean\""
   ]
  },
  {
   "cell_type": "markdown",
   "metadata": {},
   "source": [
    "## Create and Checkout a New Branch\n",
    "\n",
    "Create a new branch called cubes and switch to it."
   ]
  },
  {
   "cell_type": "markdown",
   "metadata": {},
   "source": [
    "I entered \"git branch cubes\"\n",
    "\n",
    "then I entered \"git branch\" to see what branches exist.  There is a branch called cubes, and a branch called master.\n",
    "\n",
    "I entered \"git switch cubes\"\n",
    "\n",
    "2020-08-19_0933"
   ]
  },
  {
   "cell_type": "markdown",
   "metadata": {},
   "source": [
    "## Modify the Branch\n",
    "\n",
    "Type `nano numbers.py` to open up the file again.\n",
    "\n",
    "Change the file from\n",
    "\n",
    "```\n",
    "for i in range(10):\n",
    "    print(i**2)\n",
    "```\n",
    "\n",
    "to\n",
    "\n",
    "```\n",
    "for i in range(10):\n",
    "    print(i**3)\n",
    "```"
   ]
  },
  {
   "cell_type": "markdown",
   "metadata": {},
   "source": [
    "Done did that 2020-08-19_0935"
   ]
  },
  {
   "cell_type": "markdown",
   "metadata": {},
   "source": [
    "## Add and Commit the Changes to the Cubes Branch\n",
    "\n",
    "Add and commit your changes to the cubes branch."
   ]
  },
  {
   "cell_type": "markdown",
   "metadata": {},
   "source": [
    "I entered \"git add numbers.py\"\n",
    "\n",
    "Then I entered \"git status\" and it said \"on branch cubes. changes to be committed ...\"\n",
    "\n",
    "I entered \"git commit numbers.py\"\n",
    "with the comment \"This is with the new cubes formula\"\n",
    "\n",
    "Then I entered \"git status\" and it said\n",
    "\"On branch cubes\n",
    "nothing to commit, working tree clean\""
   ]
  },
  {
   "cell_type": "markdown",
   "metadata": {},
   "source": [
    "## Switch Back to the Master Branch\n",
    "\n",
    "Now that we've made development changes in our new branch, we may wish to integrate them back into our master branch such as updating our production code. To do this, we'll switch back to the master branch and then merge the changes we made to our development branch."
   ]
  },
  {
   "cell_type": "markdown",
   "metadata": {},
   "source": [
    "I entered \"git switch master\""
   ]
  },
  {
   "cell_type": "markdown",
   "metadata": {},
   "source": [
    "## Merge the Changes from Cubes\n",
    "\n",
    "Finally, let's merge the changes from the cubes branch into our master branch."
   ]
  },
  {
   "cell_type": "markdown",
   "metadata": {},
   "source": [
    "I entered \"git merge cubes\"\n",
    "\n",
    "The result was:\"\n",
    "Updating dfd43dc..2bef5a7\n",
    "Fast-forward\n",
    " numbers.py | 2 +-\n",
    " 1 file changed, 1 insertion(+), 1 deletion(-)\n",
    "\""
   ]
  },
  {
   "cell_type": "markdown",
   "metadata": {},
   "source": [
    "## Do a Couple Sanity Checks\n",
    "\n",
    "Everything should have gone smoothly, but let's do a couple of checks to be sure. Try running the python file again and observe the output. Take a look a `git status` and see what the output is."
   ]
  },
  {
   "cell_type": "markdown",
   "metadata": {},
   "source": [
    "I entered \"python numbers.py\"\n",
    "\n",
    "The result was:\"\n",
    "0\n",
    "1\n",
    "8\n",
    "27\n",
    "64\n",
    "125\n",
    "216\n",
    "343\n",
    "512\n",
    "729\n",
    "\"\n",
    "\n",
    "I entered \"git status\"\n",
    "The result was:\"\n",
    "On branch master\n",
    "nothing to commit, working tree clean\n",
    "\"\n",
    "\n"
   ]
  },
  {
   "cell_type": "markdown",
   "metadata": {},
   "source": [
    "## Delete the Development Branch\n",
    "\n",
    "While deleting branches should be cautionary, now that we've merged our changes into the master, we really don't need our development cubes branch anymore. To clean things up, delete the branch."
   ]
  },
  {
   "cell_type": "markdown",
   "metadata": {},
   "source": [
    "I entered \"git branch -d cubes\"\n",
    "\n",
    "The result was:\"\n",
    "Deleted branch cubes (was 2bef5a7).\n",
    "\"\n"
   ]
  },
  {
   "cell_type": "markdown",
   "metadata": {},
   "source": [
    "## Summary\n",
    "\n",
    "Congratulations! In this lab, you practiced using multiple branches in git and merging your changes together. What's more, we also saw that you can use git locally with no remote connection to GitHub if you wish!\n"
   ]
  },
  {
   "cell_type": "markdown",
   "metadata": {},
   "source": [
    "I have spoken.  2020-08-19_0948MDT"
   ]
  }
 ],
 "metadata": {
  "kernelspec": {
   "display_name": "Python 3",
   "language": "python",
   "name": "python3"
  },
  "language_info": {
   "codemirror_mode": {
    "name": "ipython",
    "version": 3
   },
   "file_extension": ".py",
   "mimetype": "text/x-python",
   "name": "python",
   "nbconvert_exporter": "python",
   "pygments_lexer": "ipython3",
   "version": "3.6.9"
  },
  "toc": {
   "base_numbering": 1,
   "nav_menu": {},
   "number_sections": true,
   "sideBar": true,
   "skip_h1_title": false,
   "title_cell": "Table of Contents",
   "title_sidebar": "Contents",
   "toc_cell": false,
   "toc_position": {},
   "toc_section_display": true,
   "toc_window_display": false
  }
 },
 "nbformat": 4,
 "nbformat_minor": 2
}
